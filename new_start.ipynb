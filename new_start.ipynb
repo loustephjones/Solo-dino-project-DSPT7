{
 "cells": [
  {
   "attachments": {},
   "cell_type": "markdown",
   "metadata": {},
   "source": [
    "# Paleobiology dataset\n",
    "Source: https://paleobiodb.org/#/\n",
    "\n",
    "For my dataset, I chose to download the specimen and measurements of occurrences found in Europe. I am going to look into the average measurements of speciments."
   ]
  },
  {
   "cell_type": "code",
   "execution_count": 262,
   "metadata": {},
   "outputs": [],
   "source": [
    "import pandas as pd\n",
    "import numpy as np\n",
    "import matplotlib.pyplot as plt\n"
   ]
  },
  {
   "cell_type": "code",
   "execution_count": 263,
   "metadata": {},
   "outputs": [
    {
     "name": "stderr",
     "output_type": "stream",
     "text": [
      "/var/folders/7y/ppl4dg_n3_9fbc0v0tc07f4r0000gn/T/ipykernel_30452/3869381938.py:1: DtypeWarning: Columns (4) have mixed types. Specify dtype option on import or set low_memory=False.\n",
      "  measure = pd.read_csv(\"measurement.csv\", decimal=',')\n",
      "/var/folders/7y/ppl4dg_n3_9fbc0v0tc07f4r0000gn/T/ipykernel_30452/3869381938.py:2: DtypeWarning: Columns (2,14) have mixed types. Specify dtype option on import or set low_memory=False.\n",
      "  specimen = pd.read_csv(\"specimen.csv\", decimal=',')\n"
     ]
    }
   ],
   "source": [
    "measure = pd.read_csv(\"measurement.csv\", decimal=',')\n",
    "specimen = pd.read_csv(\"specimen.csv\", decimal=',')"
   ]
  },
  {
   "cell_type": "code",
   "execution_count": 264,
   "metadata": {},
   "outputs": [],
   "source": [
    "all_data = measure.merge(specimen, on=\"specimen_no\", how=\"inner\")"
   ]
  },
  {
   "cell_type": "code",
   "execution_count": 265,
   "metadata": {},
   "outputs": [
    {
     "data": {
      "text/html": [
       "<div>\n",
       "<style scoped>\n",
       "    .dataframe tbody tr th:only-of-type {\n",
       "        vertical-align: middle;\n",
       "    }\n",
       "\n",
       "    .dataframe tbody tr th {\n",
       "        vertical-align: top;\n",
       "    }\n",
       "\n",
       "    .dataframe thead th {\n",
       "        text-align: right;\n",
       "    }\n",
       "</style>\n",
       "<table border=\"1\" class=\"dataframe\">\n",
       "  <thead>\n",
       "    <tr style=\"text-align: right;\">\n",
       "      <th></th>\n",
       "      <th>measurement_no</th>\n",
       "      <th>specimen_no</th>\n",
       "      <th>record_type_x</th>\n",
       "      <th>n_measured_x</th>\n",
       "      <th>position</th>\n",
       "      <th>measurement_type</th>\n",
       "      <th>average</th>\n",
       "      <th>min</th>\n",
       "      <th>max</th>\n",
       "      <th>record_type_y</th>\n",
       "      <th>...</th>\n",
       "      <th>identified_name</th>\n",
       "      <th>identified_rank</th>\n",
       "      <th>identified_no</th>\n",
       "      <th>difference</th>\n",
       "      <th>accepted_name</th>\n",
       "      <th>accepted_rank</th>\n",
       "      <th>accepted_no</th>\n",
       "      <th>max_ma</th>\n",
       "      <th>min_ma</th>\n",
       "      <th>reference_no</th>\n",
       "    </tr>\n",
       "  </thead>\n",
       "  <tbody>\n",
       "    <tr>\n",
       "      <th>0</th>\n",
       "      <td>151</td>\n",
       "      <td>76</td>\n",
       "      <td>mea</td>\n",
       "      <td>33.0</td>\n",
       "      <td>NaN</td>\n",
       "      <td>length</td>\n",
       "      <td>29.42</td>\n",
       "      <td>NaN</td>\n",
       "      <td>NaN</td>\n",
       "      <td>spm</td>\n",
       "      <td>...</td>\n",
       "      <td>Alces alces</td>\n",
       "      <td>species</td>\n",
       "      <td>43850</td>\n",
       "      <td>NaN</td>\n",
       "      <td>Alces alces</td>\n",
       "      <td>species</td>\n",
       "      <td>45013.0</td>\n",
       "      <td>0.126</td>\n",
       "      <td>0.0117</td>\n",
       "      <td>8850</td>\n",
       "    </tr>\n",
       "    <tr>\n",
       "      <th>1</th>\n",
       "      <td>152</td>\n",
       "      <td>76</td>\n",
       "      <td>mea</td>\n",
       "      <td>33.0</td>\n",
       "      <td>NaN</td>\n",
       "      <td>width</td>\n",
       "      <td>20.48</td>\n",
       "      <td>NaN</td>\n",
       "      <td>NaN</td>\n",
       "      <td>spm</td>\n",
       "      <td>...</td>\n",
       "      <td>Alces alces</td>\n",
       "      <td>species</td>\n",
       "      <td>43850</td>\n",
       "      <td>NaN</td>\n",
       "      <td>Alces alces</td>\n",
       "      <td>species</td>\n",
       "      <td>45013.0</td>\n",
       "      <td>0.126</td>\n",
       "      <td>0.0117</td>\n",
       "      <td>8850</td>\n",
       "    </tr>\n",
       "    <tr>\n",
       "      <th>2</th>\n",
       "      <td>22020</td>\n",
       "      <td>10998</td>\n",
       "      <td>mea</td>\n",
       "      <td>1.0</td>\n",
       "      <td>NaN</td>\n",
       "      <td>diagonal</td>\n",
       "      <td>49.49</td>\n",
       "      <td>NaN</td>\n",
       "      <td>NaN</td>\n",
       "      <td>spm</td>\n",
       "      <td>...</td>\n",
       "      <td>Orthodesma</td>\n",
       "      <td>genus</td>\n",
       "      <td>16394</td>\n",
       "      <td>NaN</td>\n",
       "      <td>Orthodesma</td>\n",
       "      <td>genus</td>\n",
       "      <td>16394.0</td>\n",
       "      <td>457.5</td>\n",
       "      <td>455.8</td>\n",
       "      <td>6157</td>\n",
       "    </tr>\n",
       "    <tr>\n",
       "      <th>3</th>\n",
       "      <td>22021</td>\n",
       "      <td>10998</td>\n",
       "      <td>mea</td>\n",
       "      <td>1.0</td>\n",
       "      <td>NaN</td>\n",
       "      <td>length</td>\n",
       "      <td>65.54</td>\n",
       "      <td>NaN</td>\n",
       "      <td>NaN</td>\n",
       "      <td>spm</td>\n",
       "      <td>...</td>\n",
       "      <td>Orthodesma</td>\n",
       "      <td>genus</td>\n",
       "      <td>16394</td>\n",
       "      <td>NaN</td>\n",
       "      <td>Orthodesma</td>\n",
       "      <td>genus</td>\n",
       "      <td>16394.0</td>\n",
       "      <td>457.5</td>\n",
       "      <td>455.8</td>\n",
       "      <td>6157</td>\n",
       "    </tr>\n",
       "    <tr>\n",
       "      <th>4</th>\n",
       "      <td>22022</td>\n",
       "      <td>10998</td>\n",
       "      <td>mea</td>\n",
       "      <td>1.0</td>\n",
       "      <td>NaN</td>\n",
       "      <td>height</td>\n",
       "      <td>24.9</td>\n",
       "      <td>NaN</td>\n",
       "      <td>NaN</td>\n",
       "      <td>spm</td>\n",
       "      <td>...</td>\n",
       "      <td>Orthodesma</td>\n",
       "      <td>genus</td>\n",
       "      <td>16394</td>\n",
       "      <td>NaN</td>\n",
       "      <td>Orthodesma</td>\n",
       "      <td>genus</td>\n",
       "      <td>16394.0</td>\n",
       "      <td>457.5</td>\n",
       "      <td>455.8</td>\n",
       "      <td>6157</td>\n",
       "    </tr>\n",
       "  </tbody>\n",
       "</table>\n",
       "<p>5 rows × 34 columns</p>\n",
       "</div>"
      ],
      "text/plain": [
       "   measurement_no  specimen_no record_type_x  n_measured_x position  \\\n",
       "0             151           76           mea          33.0      NaN   \n",
       "1             152           76           mea          33.0      NaN   \n",
       "2           22020        10998           mea           1.0      NaN   \n",
       "3           22021        10998           mea           1.0      NaN   \n",
       "4           22022        10998           mea           1.0      NaN   \n",
       "\n",
       "  measurement_type average  min  max record_type_y  ... identified_name  \\\n",
       "0           length   29.42  NaN  NaN           spm  ...     Alces alces   \n",
       "1            width   20.48  NaN  NaN           spm  ...     Alces alces   \n",
       "2         diagonal   49.49  NaN  NaN           spm  ...      Orthodesma   \n",
       "3           length   65.54  NaN  NaN           spm  ...      Orthodesma   \n",
       "4           height    24.9  NaN  NaN           spm  ...      Orthodesma   \n",
       "\n",
       "   identified_rank  identified_no  difference accepted_name accepted_rank  \\\n",
       "0          species          43850         NaN   Alces alces       species   \n",
       "1          species          43850         NaN   Alces alces       species   \n",
       "2            genus          16394         NaN    Orthodesma         genus   \n",
       "3            genus          16394         NaN    Orthodesma         genus   \n",
       "4            genus          16394         NaN    Orthodesma         genus   \n",
       "\n",
       "   accepted_no max_ma  min_ma reference_no  \n",
       "0      45013.0  0.126  0.0117         8850  \n",
       "1      45013.0  0.126  0.0117         8850  \n",
       "2      16394.0  457.5   455.8         6157  \n",
       "3      16394.0  457.5   455.8         6157  \n",
       "4      16394.0  457.5   455.8         6157  \n",
       "\n",
       "[5 rows x 34 columns]"
      ]
     },
     "execution_count": 265,
     "metadata": {},
     "output_type": "execute_result"
    }
   ],
   "source": [
    "all_data.head()"
   ]
  },
  {
   "cell_type": "code",
   "execution_count": null,
   "metadata": {},
   "outputs": [],
   "source": []
  },
  {
   "cell_type": "code",
   "execution_count": 266,
   "metadata": {},
   "outputs": [
    {
     "data": {
      "text/plain": [
       "(87381, 34)"
      ]
     },
     "execution_count": 266,
     "metadata": {},
     "output_type": "execute_result"
    }
   ],
   "source": [
    "# Checking out shape and info on missing values\n",
    "\n",
    "all_data.shape\n"
   ]
  },
  {
   "cell_type": "code",
   "execution_count": 267,
   "metadata": {},
   "outputs": [],
   "source": [
    "pd.options.display.max_rows = 4000"
   ]
  },
  {
   "cell_type": "code",
   "execution_count": 268,
   "metadata": {},
   "outputs": [
    {
     "data": {
      "text/plain": [
       "measurement_no            0\n",
       "specimen_no               0\n",
       "record_type_x             0\n",
       "n_measured_x              5\n",
       "position              84788\n",
       "measurement_type          0\n",
       "average                   0\n",
       "min                   87381\n",
       "max                   87381\n",
       "record_type_y             0\n",
       "flags                 87285\n",
       "occurrence_no             0\n",
       "reid_no                   0\n",
       "collection_no             0\n",
       "specimen_id           13180\n",
       "is_type               57229\n",
       "specelt_no            87381\n",
       "specimen_side         79761\n",
       "specimen_part          3776\n",
       "specimen_sex          82969\n",
       "n_measured_y              5\n",
       "measurement_source     4767\n",
       "magnification         82471\n",
       "comments              84131\n",
       "identified_name           0\n",
       "identified_rank           5\n",
       "identified_no             0\n",
       "difference            70683\n",
       "accepted_name            22\n",
       "accepted_rank            22\n",
       "accepted_no              22\n",
       "max_ma                    0\n",
       "min_ma                    0\n",
       "reference_no              0\n",
       "dtype: int64"
      ]
     },
     "execution_count": 268,
     "metadata": {},
     "output_type": "execute_result"
    }
   ],
   "source": [
    "# 87,381 rows and 34 columns\n",
    "\n",
    "missing_values_count = all_data.isnull().sum()\n",
    "missing_values_count"
   ]
  },
  {
   "attachments": {},
   "cell_type": "markdown",
   "metadata": {},
   "source": [
    "I can see from this result that min and max are fully missing, position has most missing, as well as specimen_id, is_type, specelt_no etc. I think for the columns with that many missing, I'm going to drop them. \n",
    "But first I'm going to make a copy of my dataset incase I get this all wrong"
   ]
  },
  {
   "cell_type": "code",
   "execution_count": 269,
   "metadata": {},
   "outputs": [],
   "source": [
    "data = all_data"
   ]
  },
  {
   "cell_type": "code",
   "execution_count": 270,
   "metadata": {},
   "outputs": [],
   "source": [
    "data = data.drop(['position', 'min', 'max', 'flags', 'specimen_id', 'is_type', 'is_type', 'specelt_no', 'specimen_side', 'specimen_part', 'specimen_sex', 'measurement_source', 'magnification', 'comments', 'difference', 'reid_no', 'record_type_x'], axis=1)"
   ]
  },
  {
   "attachments": {},
   "cell_type": "markdown",
   "metadata": {},
   "source": [
    "Looking at the general info of the data"
   ]
  },
  {
   "cell_type": "code",
   "execution_count": 271,
   "metadata": {},
   "outputs": [
    {
     "name": "stdout",
     "output_type": "stream",
     "text": [
      "<class 'pandas.core.frame.DataFrame'>\n",
      "Int64Index: 87381 entries, 0 to 87380\n",
      "Data columns (total 18 columns):\n",
      " #   Column            Non-Null Count  Dtype  \n",
      "---  ------            --------------  -----  \n",
      " 0   measurement_no    87381 non-null  int64  \n",
      " 1   specimen_no       87381 non-null  int64  \n",
      " 2   n_measured_x      87376 non-null  float64\n",
      " 3   measurement_type  87381 non-null  object \n",
      " 4   average           87381 non-null  object \n",
      " 5   record_type_y     87381 non-null  object \n",
      " 6   occurrence_no     87381 non-null  int64  \n",
      " 7   collection_no     87381 non-null  int64  \n",
      " 8   n_measured_y      87376 non-null  float64\n",
      " 9   identified_name   87381 non-null  object \n",
      " 10  identified_rank   87376 non-null  object \n",
      " 11  identified_no     87381 non-null  int64  \n",
      " 12  accepted_name     87359 non-null  object \n",
      " 13  accepted_rank     87359 non-null  object \n",
      " 14  accepted_no       87359 non-null  float64\n",
      " 15  max_ma            87381 non-null  object \n",
      " 16  min_ma            87381 non-null  object \n",
      " 17  reference_no      87381 non-null  int64  \n",
      "dtypes: float64(3), int64(6), object(9)\n",
      "memory usage: 12.7+ MB\n"
     ]
    }
   ],
   "source": [
    "data.info()"
   ]
  },
  {
   "cell_type": "code",
   "execution_count": 272,
   "metadata": {},
   "outputs": [
    {
     "data": {
      "text/html": [
       "<div>\n",
       "<style scoped>\n",
       "    .dataframe tbody tr th:only-of-type {\n",
       "        vertical-align: middle;\n",
       "    }\n",
       "\n",
       "    .dataframe tbody tr th {\n",
       "        vertical-align: top;\n",
       "    }\n",
       "\n",
       "    .dataframe thead th {\n",
       "        text-align: right;\n",
       "    }\n",
       "</style>\n",
       "<table border=\"1\" class=\"dataframe\">\n",
       "  <thead>\n",
       "    <tr style=\"text-align: right;\">\n",
       "      <th></th>\n",
       "      <th>measurement_no</th>\n",
       "      <th>specimen_no</th>\n",
       "      <th>n_measured_x</th>\n",
       "      <th>occurrence_no</th>\n",
       "      <th>collection_no</th>\n",
       "      <th>n_measured_y</th>\n",
       "      <th>identified_no</th>\n",
       "      <th>accepted_no</th>\n",
       "      <th>reference_no</th>\n",
       "    </tr>\n",
       "  </thead>\n",
       "  <tbody>\n",
       "    <tr>\n",
       "      <th>count</th>\n",
       "      <td>87381.000000</td>\n",
       "      <td>87381.000000</td>\n",
       "      <td>87376.000000</td>\n",
       "      <td>8.738100e+04</td>\n",
       "      <td>87381.000000</td>\n",
       "      <td>87376.000000</td>\n",
       "      <td>87381.000000</td>\n",
       "      <td>87359.000000</td>\n",
       "      <td>87381.000000</td>\n",
       "    </tr>\n",
       "    <tr>\n",
       "      <th>mean</th>\n",
       "      <td>228636.331605</td>\n",
       "      <td>107498.317769</td>\n",
       "      <td>1.000961</td>\n",
       "      <td>1.084052e+06</td>\n",
       "      <td>128396.512114</td>\n",
       "      <td>1.000961</td>\n",
       "      <td>246518.719825</td>\n",
       "      <td>242074.969517</td>\n",
       "      <td>43139.673236</td>\n",
       "    </tr>\n",
       "    <tr>\n",
       "      <th>std</th>\n",
       "      <td>94810.021726</td>\n",
       "      <td>42902.548270</td>\n",
       "      <td>0.154658</td>\n",
       "      <td>2.256188e+05</td>\n",
       "      <td>35799.971304</td>\n",
       "      <td>0.154658</td>\n",
       "      <td>77496.978627</td>\n",
       "      <td>78179.325765</td>\n",
       "      <td>13539.940126</td>\n",
       "    </tr>\n",
       "    <tr>\n",
       "      <th>min</th>\n",
       "      <td>151.000000</td>\n",
       "      <td>76.000000</td>\n",
       "      <td>0.000000</td>\n",
       "      <td>2.565200e+04</td>\n",
       "      <td>1854.000000</td>\n",
       "      <td>0.000000</td>\n",
       "      <td>0.000000</td>\n",
       "      <td>1243.000000</td>\n",
       "      <td>262.000000</td>\n",
       "    </tr>\n",
       "    <tr>\n",
       "      <th>25%</th>\n",
       "      <td>169992.000000</td>\n",
       "      <td>77043.000000</td>\n",
       "      <td>1.000000</td>\n",
       "      <td>9.670200e+05</td>\n",
       "      <td>108672.000000</td>\n",
       "      <td>1.000000</td>\n",
       "      <td>191145.000000</td>\n",
       "      <td>184779.000000</td>\n",
       "      <td>35266.000000</td>\n",
       "    </tr>\n",
       "    <tr>\n",
       "      <th>50%</th>\n",
       "      <td>250571.000000</td>\n",
       "      <td>119068.000000</td>\n",
       "      <td>1.000000</td>\n",
       "      <td>1.136110e+06</td>\n",
       "      <td>124205.000000</td>\n",
       "      <td>1.000000</td>\n",
       "      <td>258782.000000</td>\n",
       "      <td>251836.000000</td>\n",
       "      <td>44589.000000</td>\n",
       "    </tr>\n",
       "    <tr>\n",
       "      <th>75%</th>\n",
       "      <td>307255.000000</td>\n",
       "      <td>143697.000000</td>\n",
       "      <td>1.000000</td>\n",
       "      <td>1.226548e+06</td>\n",
       "      <td>158200.000000</td>\n",
       "      <td>1.000000</td>\n",
       "      <td>301537.000000</td>\n",
       "      <td>300651.000000</td>\n",
       "      <td>52485.000000</td>\n",
       "    </tr>\n",
       "    <tr>\n",
       "      <th>max</th>\n",
       "      <td>357204.000000</td>\n",
       "      <td>162619.000000</td>\n",
       "      <td>33.000000</td>\n",
       "      <td>1.619856e+06</td>\n",
       "      <td>228970.000000</td>\n",
       "      <td>33.000000</td>\n",
       "      <td>467610.000000</td>\n",
       "      <td>467610.000000</td>\n",
       "      <td>83834.000000</td>\n",
       "    </tr>\n",
       "  </tbody>\n",
       "</table>\n",
       "</div>"
      ],
      "text/plain": [
       "       measurement_no    specimen_no  n_measured_x  occurrence_no  \\\n",
       "count    87381.000000   87381.000000  87376.000000   8.738100e+04   \n",
       "mean    228636.331605  107498.317769      1.000961   1.084052e+06   \n",
       "std      94810.021726   42902.548270      0.154658   2.256188e+05   \n",
       "min        151.000000      76.000000      0.000000   2.565200e+04   \n",
       "25%     169992.000000   77043.000000      1.000000   9.670200e+05   \n",
       "50%     250571.000000  119068.000000      1.000000   1.136110e+06   \n",
       "75%     307255.000000  143697.000000      1.000000   1.226548e+06   \n",
       "max     357204.000000  162619.000000     33.000000   1.619856e+06   \n",
       "\n",
       "       collection_no  n_measured_y  identified_no    accepted_no  reference_no  \n",
       "count   87381.000000  87376.000000   87381.000000   87359.000000  87381.000000  \n",
       "mean   128396.512114      1.000961  246518.719825  242074.969517  43139.673236  \n",
       "std     35799.971304      0.154658   77496.978627   78179.325765  13539.940126  \n",
       "min      1854.000000      0.000000       0.000000    1243.000000    262.000000  \n",
       "25%    108672.000000      1.000000  191145.000000  184779.000000  35266.000000  \n",
       "50%    124205.000000      1.000000  258782.000000  251836.000000  44589.000000  \n",
       "75%    158200.000000      1.000000  301537.000000  300651.000000  52485.000000  \n",
       "max    228970.000000     33.000000  467610.000000  467610.000000  83834.000000  "
      ]
     },
     "execution_count": 272,
     "metadata": {},
     "output_type": "execute_result"
    }
   ],
   "source": [
    "data.describe()"
   ]
  },
  {
   "cell_type": "code",
   "execution_count": 273,
   "metadata": {},
   "outputs": [
    {
     "data": {
      "text/plain": [
       "Index(['measurement_no', 'specimen_no', 'n_measured_x', 'measurement_type',\n",
       "       'average', 'record_type_y', 'occurrence_no', 'collection_no',\n",
       "       'n_measured_y', 'identified_name', 'identified_rank', 'identified_no',\n",
       "       'accepted_name', 'accepted_rank', 'accepted_no', 'max_ma', 'min_ma',\n",
       "       'reference_no'],\n",
       "      dtype='object')"
      ]
     },
     "execution_count": 273,
     "metadata": {},
     "output_type": "execute_result"
    }
   ],
   "source": [
    "data.columns"
   ]
  },
  {
   "cell_type": "code",
   "execution_count": 274,
   "metadata": {},
   "outputs": [
    {
     "data": {
      "text/plain": [
       "measurement_no        int64\n",
       "specimen_no           int64\n",
       "n_measured_x        float64\n",
       "measurement_type     object\n",
       "average              object\n",
       "record_type_y        object\n",
       "occurrence_no         int64\n",
       "collection_no         int64\n",
       "n_measured_y        float64\n",
       "identified_name      object\n",
       "identified_rank      object\n",
       "identified_no         int64\n",
       "accepted_name        object\n",
       "accepted_rank        object\n",
       "accepted_no         float64\n",
       "max_ma               object\n",
       "min_ma               object\n",
       "reference_no          int64\n",
       "dtype: object"
      ]
     },
     "execution_count": 274,
     "metadata": {},
     "output_type": "execute_result"
    }
   ],
   "source": [
    "data.dtypes"
   ]
  },
  {
   "attachments": {},
   "cell_type": "markdown",
   "metadata": {},
   "source": [
    "##### I have a lot of dtype = object, which I don't want, so I'm going to convert them. "
   ]
  },
  {
   "cell_type": "code",
   "execution_count": 275,
   "metadata": {},
   "outputs": [],
   "source": [
    "data[\"average\"] = data[\"average\"].str.replace(',','.')"
   ]
  },
  {
   "cell_type": "code",
   "execution_count": 276,
   "metadata": {},
   "outputs": [],
   "source": [
    "data[\"average\"] = data[\"average\"].astype(float)\n",
    "data['accepted_name'] = data['accepted_name'].astype('|S')"
   ]
  },
  {
   "cell_type": "code",
   "execution_count": 284,
   "metadata": {},
   "outputs": [
    {
     "ename": "IndexError",
     "evalue": "Column(s) average already selected",
     "output_type": "error",
     "traceback": [
      "\u001b[0;31m---------------------------------------------------------------------------\u001b[0m",
      "\u001b[0;31mIndexError\u001b[0m                                Traceback (most recent call last)",
      "\u001b[1;32m/Users/louisejones/Desktop/Solo-dino-project-DSPT7/new_start.ipynb Cell 21\u001b[0m in \u001b[0;36m<cell line: 1>\u001b[0;34m()\u001b[0m\n\u001b[0;32m----> <a href='vscode-notebook-cell:/Users/louisejones/Desktop/Solo-dino-project-DSPT7/new_start.ipynb#X56sZmlsZQ%3D%3D?line=0'>1</a>\u001b[0m avg_measurement_by_spec \u001b[39m=\u001b[39m (data\u001b[39m.\u001b[39;49mgroupby(\u001b[39m\"\u001b[39;49m\u001b[39maccepted_name\u001b[39;49m\u001b[39m\"\u001b[39;49m)[\u001b[39m\"\u001b[39;49m\u001b[39maverage\u001b[39;49m\u001b[39m\"\u001b[39;49m][\u001b[39m\"\u001b[39;49m\u001b[39mmeasurement_type\u001b[39;49m\u001b[39m\"\u001b[39;49m] \u001b[39m==\u001b[39m \u001b[39m\"\u001b[39m\u001b[39mlength\u001b[39m\u001b[39m\"\u001b[39m)\u001b[39m.\u001b[39mmean()\n",
      "File \u001b[0;32m~/Library/Python/3.9/lib/python/site-packages/pandas/core/base.py:233\u001b[0m, in \u001b[0;36mSelectionMixin.__getitem__\u001b[0;34m(self, key)\u001b[0m\n\u001b[1;32m    231\u001b[0m \u001b[39mdef\u001b[39;00m \u001b[39m__getitem__\u001b[39m(\u001b[39mself\u001b[39m, key):\n\u001b[1;32m    232\u001b[0m     \u001b[39mif\u001b[39;00m \u001b[39mself\u001b[39m\u001b[39m.\u001b[39m_selection \u001b[39mis\u001b[39;00m \u001b[39mnot\u001b[39;00m \u001b[39mNone\u001b[39;00m:\n\u001b[0;32m--> 233\u001b[0m         \u001b[39mraise\u001b[39;00m \u001b[39mIndexError\u001b[39;00m(\u001b[39mf\u001b[39m\u001b[39m\"\u001b[39m\u001b[39mColumn(s) \u001b[39m\u001b[39m{\u001b[39;00m\u001b[39mself\u001b[39m\u001b[39m.\u001b[39m_selection\u001b[39m}\u001b[39;00m\u001b[39m already selected\u001b[39m\u001b[39m\"\u001b[39m)\n\u001b[1;32m    235\u001b[0m     \u001b[39mif\u001b[39;00m \u001b[39misinstance\u001b[39m(key, (\u001b[39mlist\u001b[39m, \u001b[39mtuple\u001b[39m, ABCSeries, ABCIndex, np\u001b[39m.\u001b[39mndarray)):\n\u001b[1;32m    236\u001b[0m         \u001b[39mif\u001b[39;00m \u001b[39mlen\u001b[39m(\u001b[39mself\u001b[39m\u001b[39m.\u001b[39mobj\u001b[39m.\u001b[39mcolumns\u001b[39m.\u001b[39mintersection(key)) \u001b[39m!=\u001b[39m \u001b[39mlen\u001b[39m(\u001b[39mset\u001b[39m(key)):\n",
      "\u001b[0;31mIndexError\u001b[0m: Column(s) average already selected"
     ]
    }
   ],
   "source": [
    "avg_measurement_by_spec = (data.groupby(\"accepted_name\")[\"average\"][\"measurement_type\"] == \"length\").mean() "
   ]
  },
  {
   "cell_type": "code",
   "execution_count": null,
   "metadata": {},
   "outputs": [
    {
     "data": {
      "text/plain": [
       "accepted_name\n",
       "b'Aalenirhynchia subdecorata'        22.588889\n",
       "b'Aalenirhynchia walkeri'            22.566667\n",
       "b'Abaptilon sibiricum'               28.250000\n",
       "b'Abashevia suchovi'                 18.750000\n",
       "b'Abbasitoides modestus'             20.625000\n",
       "b'Abbrevikhosara ovoidea'            11.150000\n",
       "b'Abdera (Abdera) hoffeinsorum'       1.950000\n",
       "b'Abdera (Abdera) rikojotensis'       2.325000\n",
       "b'Abderina helmi'                     3.500000\n",
       "b'Abelater succineus'                 1.950000\n",
       "b'Aberrokorynetes abludens'           3.200000\n",
       "b'Aberrokorynetes oceanojubilaei'     2.335000\n",
       "b'Aboilus krassilovi'                41.150000\n",
       "b'Abraracourcix curvivenatus'         6.650000\n",
       "b'Abrekia sulcata'                    5.539130\n",
       "Name: average, dtype: float64"
      ]
     },
     "execution_count": 282,
     "metadata": {},
     "output_type": "execute_result"
    }
   ],
   "source": [
    "avg_measurement_by_spec = data.groupby(\"accepted_name\")[\"average\"].mean()\n",
    "#How do I do it so I am also filtering the average of only measurements == length or measurements == width\n",
    "#Do i one-hot encode?\n",
    "avg_measurement_by_spec.head(15)"
   ]
  },
  {
   "cell_type": "code",
   "execution_count": null,
   "metadata": {},
   "outputs": [],
   "source": []
  },
  {
   "cell_type": "code",
   "execution_count": null,
   "metadata": {},
   "outputs": [
    {
     "data": {
      "text/plain": [
       "(87381, 18)"
      ]
     },
     "execution_count": 283,
     "metadata": {},
     "output_type": "execute_result"
    }
   ],
   "source": [
    "data.shape"
   ]
  }
 ],
 "metadata": {
  "kernelspec": {
   "display_name": "Python 3",
   "language": "python",
   "name": "python3"
  },
  "language_info": {
   "codemirror_mode": {
    "name": "ipython",
    "version": 3
   },
   "file_extension": ".py",
   "mimetype": "text/x-python",
   "name": "python",
   "nbconvert_exporter": "python",
   "pygments_lexer": "ipython3",
   "version": "3.9.15"
  },
  "orig_nbformat": 4,
  "vscode": {
   "interpreter": {
    "hash": "a665b5d41d17b532ea9890333293a1b812fa0b73c9c25c950b3cedf1bebd0438"
   }
  }
 },
 "nbformat": 4,
 "nbformat_minor": 2
}
