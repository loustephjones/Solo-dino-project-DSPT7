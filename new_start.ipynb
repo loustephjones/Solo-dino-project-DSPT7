{
 "cells": [
  {
   "cell_type": "code",
   "execution_count": 1,
   "metadata": {},
   "outputs": [],
   "source": [
    "import pandas as pd\n",
    "import numpy as np\n"
   ]
  },
  {
   "cell_type": "code",
   "execution_count": 3,
   "metadata": {},
   "outputs": [
    {
     "name": "stderr",
     "output_type": "stream",
     "text": [
      "/var/folders/7y/ppl4dg_n3_9fbc0v0tc07f4r0000gn/T/ipykernel_30452/3837497669.py:1: DtypeWarning: Columns (4,6) have mixed types. Specify dtype option on import or set low_memory=False.\n",
      "  measure = pd.read_csv(\"measurement.csv\")\n",
      "/var/folders/7y/ppl4dg_n3_9fbc0v0tc07f4r0000gn/T/ipykernel_30452/3837497669.py:2: DtypeWarning: Columns (2,14) have mixed types. Specify dtype option on import or set low_memory=False.\n",
      "  specimen = pd.read_csv(\"specimen.csv\")\n"
     ]
    }
   ],
   "source": [
    "measure = pd.read_csv(\"measurement.csv\")\n",
    "specimen = pd.read_csv(\"specimen.csv\")"
   ]
  },
  {
   "cell_type": "code",
   "execution_count": 4,
   "metadata": {},
   "outputs": [],
   "source": [
    "all_data = measure.merge(specimen, on=\"specimen_no\", how=\"inner\")"
   ]
  },
  {
   "cell_type": "code",
   "execution_count": 5,
   "metadata": {},
   "outputs": [
    {
     "data": {
      "text/html": [
       "<div>\n",
       "<style scoped>\n",
       "    .dataframe tbody tr th:only-of-type {\n",
       "        vertical-align: middle;\n",
       "    }\n",
       "\n",
       "    .dataframe tbody tr th {\n",
       "        vertical-align: top;\n",
       "    }\n",
       "\n",
       "    .dataframe thead th {\n",
       "        text-align: right;\n",
       "    }\n",
       "</style>\n",
       "<table border=\"1\" class=\"dataframe\">\n",
       "  <thead>\n",
       "    <tr style=\"text-align: right;\">\n",
       "      <th></th>\n",
       "      <th>measurement_no</th>\n",
       "      <th>specimen_no</th>\n",
       "      <th>record_type_x</th>\n",
       "      <th>n_measured_x</th>\n",
       "      <th>position</th>\n",
       "      <th>measurement_type</th>\n",
       "      <th>average</th>\n",
       "      <th>min</th>\n",
       "      <th>max</th>\n",
       "      <th>record_type_y</th>\n",
       "      <th>...</th>\n",
       "      <th>identified_name</th>\n",
       "      <th>identified_rank</th>\n",
       "      <th>identified_no</th>\n",
       "      <th>difference</th>\n",
       "      <th>accepted_name</th>\n",
       "      <th>accepted_rank</th>\n",
       "      <th>accepted_no</th>\n",
       "      <th>max_ma</th>\n",
       "      <th>min_ma</th>\n",
       "      <th>reference_no</th>\n",
       "    </tr>\n",
       "  </thead>\n",
       "  <tbody>\n",
       "    <tr>\n",
       "      <th>0</th>\n",
       "      <td>151</td>\n",
       "      <td>76</td>\n",
       "      <td>mea</td>\n",
       "      <td>33.0</td>\n",
       "      <td>NaN</td>\n",
       "      <td>length</td>\n",
       "      <td>29.42</td>\n",
       "      <td>NaN</td>\n",
       "      <td>NaN</td>\n",
       "      <td>spm</td>\n",
       "      <td>...</td>\n",
       "      <td>Alces alces</td>\n",
       "      <td>species</td>\n",
       "      <td>43850</td>\n",
       "      <td>NaN</td>\n",
       "      <td>Alces alces</td>\n",
       "      <td>species</td>\n",
       "      <td>45013.0</td>\n",
       "      <td>0.126</td>\n",
       "      <td>0.0117</td>\n",
       "      <td>8850</td>\n",
       "    </tr>\n",
       "    <tr>\n",
       "      <th>1</th>\n",
       "      <td>152</td>\n",
       "      <td>76</td>\n",
       "      <td>mea</td>\n",
       "      <td>33.0</td>\n",
       "      <td>NaN</td>\n",
       "      <td>width</td>\n",
       "      <td>20.48</td>\n",
       "      <td>NaN</td>\n",
       "      <td>NaN</td>\n",
       "      <td>spm</td>\n",
       "      <td>...</td>\n",
       "      <td>Alces alces</td>\n",
       "      <td>species</td>\n",
       "      <td>43850</td>\n",
       "      <td>NaN</td>\n",
       "      <td>Alces alces</td>\n",
       "      <td>species</td>\n",
       "      <td>45013.0</td>\n",
       "      <td>0.126</td>\n",
       "      <td>0.0117</td>\n",
       "      <td>8850</td>\n",
       "    </tr>\n",
       "    <tr>\n",
       "      <th>2</th>\n",
       "      <td>22020</td>\n",
       "      <td>10998</td>\n",
       "      <td>mea</td>\n",
       "      <td>1.0</td>\n",
       "      <td>NaN</td>\n",
       "      <td>diagonal</td>\n",
       "      <td>49.49</td>\n",
       "      <td>NaN</td>\n",
       "      <td>NaN</td>\n",
       "      <td>spm</td>\n",
       "      <td>...</td>\n",
       "      <td>Orthodesma</td>\n",
       "      <td>genus</td>\n",
       "      <td>16394</td>\n",
       "      <td>NaN</td>\n",
       "      <td>Orthodesma</td>\n",
       "      <td>genus</td>\n",
       "      <td>16394.0</td>\n",
       "      <td>457.500</td>\n",
       "      <td>455.8000</td>\n",
       "      <td>6157</td>\n",
       "    </tr>\n",
       "    <tr>\n",
       "      <th>3</th>\n",
       "      <td>22021</td>\n",
       "      <td>10998</td>\n",
       "      <td>mea</td>\n",
       "      <td>1.0</td>\n",
       "      <td>NaN</td>\n",
       "      <td>length</td>\n",
       "      <td>65.54</td>\n",
       "      <td>NaN</td>\n",
       "      <td>NaN</td>\n",
       "      <td>spm</td>\n",
       "      <td>...</td>\n",
       "      <td>Orthodesma</td>\n",
       "      <td>genus</td>\n",
       "      <td>16394</td>\n",
       "      <td>NaN</td>\n",
       "      <td>Orthodesma</td>\n",
       "      <td>genus</td>\n",
       "      <td>16394.0</td>\n",
       "      <td>457.500</td>\n",
       "      <td>455.8000</td>\n",
       "      <td>6157</td>\n",
       "    </tr>\n",
       "    <tr>\n",
       "      <th>4</th>\n",
       "      <td>22022</td>\n",
       "      <td>10998</td>\n",
       "      <td>mea</td>\n",
       "      <td>1.0</td>\n",
       "      <td>NaN</td>\n",
       "      <td>height</td>\n",
       "      <td>24.9</td>\n",
       "      <td>NaN</td>\n",
       "      <td>NaN</td>\n",
       "      <td>spm</td>\n",
       "      <td>...</td>\n",
       "      <td>Orthodesma</td>\n",
       "      <td>genus</td>\n",
       "      <td>16394</td>\n",
       "      <td>NaN</td>\n",
       "      <td>Orthodesma</td>\n",
       "      <td>genus</td>\n",
       "      <td>16394.0</td>\n",
       "      <td>457.500</td>\n",
       "      <td>455.8000</td>\n",
       "      <td>6157</td>\n",
       "    </tr>\n",
       "  </tbody>\n",
       "</table>\n",
       "<p>5 rows × 34 columns</p>\n",
       "</div>"
      ],
      "text/plain": [
       "   measurement_no  specimen_no record_type_x  n_measured_x position  \\\n",
       "0             151           76           mea          33.0      NaN   \n",
       "1             152           76           mea          33.0      NaN   \n",
       "2           22020        10998           mea           1.0      NaN   \n",
       "3           22021        10998           mea           1.0      NaN   \n",
       "4           22022        10998           mea           1.0      NaN   \n",
       "\n",
       "  measurement_type average  min  max record_type_y  ... identified_name  \\\n",
       "0           length   29.42  NaN  NaN           spm  ...     Alces alces   \n",
       "1            width   20.48  NaN  NaN           spm  ...     Alces alces   \n",
       "2         diagonal   49.49  NaN  NaN           spm  ...      Orthodesma   \n",
       "3           length   65.54  NaN  NaN           spm  ...      Orthodesma   \n",
       "4           height    24.9  NaN  NaN           spm  ...      Orthodesma   \n",
       "\n",
       "   identified_rank  identified_no  difference accepted_name accepted_rank  \\\n",
       "0          species          43850         NaN   Alces alces       species   \n",
       "1          species          43850         NaN   Alces alces       species   \n",
       "2            genus          16394         NaN    Orthodesma         genus   \n",
       "3            genus          16394         NaN    Orthodesma         genus   \n",
       "4            genus          16394         NaN    Orthodesma         genus   \n",
       "\n",
       "   accepted_no   max_ma    min_ma reference_no  \n",
       "0      45013.0    0.126    0.0117         8850  \n",
       "1      45013.0    0.126    0.0117         8850  \n",
       "2      16394.0  457.500  455.8000         6157  \n",
       "3      16394.0  457.500  455.8000         6157  \n",
       "4      16394.0  457.500  455.8000         6157  \n",
       "\n",
       "[5 rows x 34 columns]"
      ]
     },
     "execution_count": 5,
     "metadata": {},
     "output_type": "execute_result"
    }
   ],
   "source": [
    "all_data.head()"
   ]
  },
  {
   "cell_type": "code",
   "execution_count": 9,
   "metadata": {},
   "outputs": [
    {
     "data": {
      "text/plain": [
       "(87381, 34)"
      ]
     },
     "execution_count": 9,
     "metadata": {},
     "output_type": "execute_result"
    }
   ],
   "source": [
    "# Checking out shape and info on missing values\n",
    "\n",
    "all_data.shape\n"
   ]
  },
  {
   "cell_type": "code",
   "execution_count": 10,
   "metadata": {},
   "outputs": [
    {
     "data": {
      "text/plain": [
       "measurement_no            0\n",
       "specimen_no               0\n",
       "record_type_x             0\n",
       "n_measured_x              5\n",
       "position              84788\n",
       "measurement_type          0\n",
       "average                   0\n",
       "min                   87381\n",
       "max                   87381\n",
       "record_type_y             0\n",
       "flags                 87285\n",
       "occurrence_no             0\n",
       "reid_no                   0\n",
       "collection_no             0\n",
       "specimen_id           13180\n",
       "is_type               57229\n",
       "specelt_no            87381\n",
       "specimen_side         79761\n",
       "specimen_part          3776\n",
       "specimen_sex          82969\n",
       "n_measured_y              5\n",
       "measurement_source     4767\n",
       "magnification         82471\n",
       "comments              84131\n",
       "identified_name           0\n",
       "identified_rank           5\n",
       "identified_no             0\n",
       "difference            70683\n",
       "accepted_name            22\n",
       "accepted_rank            22\n",
       "accepted_no              22\n",
       "max_ma                    0\n",
       "min_ma                    0\n",
       "reference_no              0\n",
       "dtype: int64"
      ]
     },
     "execution_count": 10,
     "metadata": {},
     "output_type": "execute_result"
    }
   ],
   "source": [
    "# 87,381 rows and 34 columns\n",
    "\n",
    "missing_values_count = all_data.isnull().sum()\n",
    "missing_values_count"
   ]
  },
  {
   "attachments": {},
   "cell_type": "markdown",
   "metadata": {},
   "source": [
    "I can see from this result that min and max are fully missing, position has most missing, as well as specimen_id, is_type, specelt_no etc. I think for the columns with that many missing, I'm going to drop them. \n",
    "But first I'm going to make a copy of my dataset incase I get this all wrong"
   ]
  },
  {
   "cell_type": "code",
   "execution_count": 11,
   "metadata": {},
   "outputs": [],
   "source": [
    "data = all_data"
   ]
  },
  {
   "cell_type": "code",
   "execution_count": null,
   "metadata": {},
   "outputs": [],
   "source": []
  }
 ],
 "metadata": {
  "kernelspec": {
   "display_name": "Python 3",
   "language": "python",
   "name": "python3"
  },
  "language_info": {
   "codemirror_mode": {
    "name": "ipython",
    "version": 3
   },
   "file_extension": ".py",
   "mimetype": "text/x-python",
   "name": "python",
   "nbconvert_exporter": "python",
   "pygments_lexer": "ipython3",
   "version": "3.9.15"
  },
  "orig_nbformat": 4,
  "vscode": {
   "interpreter": {
    "hash": "a665b5d41d17b532ea9890333293a1b812fa0b73c9c25c950b3cedf1bebd0438"
   }
  }
 },
 "nbformat": 4,
 "nbformat_minor": 2
}
